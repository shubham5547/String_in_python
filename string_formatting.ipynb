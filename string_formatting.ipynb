{
 "cells": [
  {
   "cell_type": "code",
   "execution_count": 1,
   "metadata": {},
   "outputs": [
    {
     "name": "stdout",
     "output_type": "stream",
     "text": [
      "hello shubham  your age is 25\n"
     ]
    }
   ],
   "source": [
    "# string formatting in python 3\n",
    "name = \"shubham\"\n",
    "age = 25\n",
    "print(\"hello {}  your age is {}\".format(name,age))\n"
   ]
  },
  {
   "cell_type": "code",
   "execution_count": 2,
   "metadata": {},
   "outputs": [
    {
     "name": "stdout",
     "output_type": "stream",
     "text": [
      "hello rahul singh  your age is 45\n"
     ]
    }
   ],
   "source": [
    "# string formatting in python 3\n",
    "name = \"rahul singh\"\n",
    "age = 45\n",
    "print(\"hello {}  your age is {}\".format(name,age))\n",
    "\n"
   ]
  },
  {
   "cell_type": "code",
   "execution_count": 3,
   "metadata": {},
   "outputs": [
    {
     "name": "stdout",
     "output_type": "stream",
     "text": [
      "hello sanu sharma your age is 23\n"
     ]
    }
   ],
   "source": [
    "# string formatting in python 3.6\n",
    "name = \"sanu sharma\"\n",
    "age = 23\n",
    "print(f\"hello {name} your age is {age}\")\n"
   ]
  },
  {
   "cell_type": "code",
   "execution_count": 4,
   "metadata": {},
   "outputs": [
    {
     "name": "stdout",
     "output_type": "stream",
     "text": [
      "hello loknath sharma your age is 55\n"
     ]
    }
   ],
   "source": [
    "name = \"loknath sharma\"\n",
    "age = 23\n",
    "print(f\"hello {name} your age is {age + 32}\")"
   ]
  },
  {
   "cell_type": "code",
   "execution_count": null,
   "metadata": {},
   "outputs": [],
   "source": []
  }
 ],
 "metadata": {
  "kernelspec": {
   "display_name": "Python 3",
   "language": "python",
   "name": "python3"
  },
  "language_info": {
   "codemirror_mode": {
    "name": "ipython",
    "version": 3
   },
   "file_extension": ".py",
   "mimetype": "text/x-python",
   "name": "python",
   "nbconvert_exporter": "python",
   "pygments_lexer": "ipython3",
   "version": "3.7.6"
  }
 },
 "nbformat": 4,
 "nbformat_minor": 4
}
